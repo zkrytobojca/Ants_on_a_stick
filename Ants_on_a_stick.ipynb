{
 "cells": [
  {
   "cell_type": "markdown",
   "id": "ba66749a",
   "metadata": {},
   "source": [
    "# Ants on a stick"
   ]
  },
  {
   "cell_type": "markdown",
   "id": "09219cb8",
   "metadata": {},
   "source": [
    "## Task description"
   ]
  },
  {
   "cell_type": "markdown",
   "id": "3ef2bede",
   "metadata": {},
   "source": [
    "Imagine there is a stick 1 meter long. We drop n ants on this stick in random places (where n is not known beforehand). Ants travel along a stick at a speed of 1 cm/s. When they meet on their path, they will change direction (bounce off each other). Ants can fall from either side of the stick. How much time must elapse till we are sure all the ants will fall off the said stick?"
   ]
  },
  {
   "cell_type": "markdown",
   "id": "1d4b8988",
   "metadata": {},
   "source": [
    "## Line of reasoning"
   ]
  },
  {
   "cell_type": "markdown",
   "id": "323452fc",
   "metadata": {},
   "source": [
    "Single ant placed on one end of the stick facing the other will travel whole length of a stick."
   ]
  },
  {
   "cell_type": "markdown",
   "id": "e4c83bfb",
   "metadata": {},
   "source": [
    "![title](img/1.png)"
   ]
  },
  {
   "cell_type": "markdown",
   "id": "bfb83dd1",
   "metadata": {},
   "source": [
    "Two ants placed on opposite ends of the stick, facing each other, will bounce in the middle. Each of them will therefore travel length of the stick (once again)."
   ]
  },
  {
   "cell_type": "markdown",
   "id": "8bec1cef",
   "metadata": {},
   "source": [
    "![title](img/2.png)"
   ]
  },
  {
   "cell_type": "markdown",
   "id": "5d07bc6e",
   "metadata": {},
   "source": [
    "Question comes to mind: Is it possible for an ant to travel more than half of the stick without bouncing off?"
   ]
  },
  {
   "cell_type": "markdown",
   "id": "9afb2ebb",
   "metadata": {},
   "source": [
    "I believe not. Only way for it to be possible would be for an ant to have no other ants facing them on their path. "
   ]
  },
  {
   "cell_type": "markdown",
   "id": "819ac447",
   "metadata": {},
   "source": [
    "As an example to support this claim, you can imagine following scenario: Two ants are placed on opposite ends of the stick, facing each other. One additional ant is placed in between them. "
   ]
  },
  {
   "cell_type": "markdown",
   "id": "e7de3f55",
   "metadata": {},
   "source": [
    "![title](img/3.png)"
   ]
  },
  {
   "cell_type": "markdown",
   "id": "4311fe43",
   "metadata": {},
   "source": [
    "The length of the stick is x + 2y. When the ant 2 and 3 meet ant 1 and 2 will be still in distance x relative to each other. Ant 3 will bounce off to the right being on the way to falling."
   ]
  },
  {
   "cell_type": "markdown",
   "id": "26c3d771",
   "metadata": {},
   "source": [
    "![title](img/4.png)"
   ]
  },
  {
   "cell_type": "markdown",
   "id": "d2aafa1d",
   "metadata": {},
   "source": [
    "Now ant 1 and 2 will travel distance equal to x/2 each. They will bounce off each other and go on their merry way to certain doom (or at least fall :P )."
   ]
  },
  {
   "cell_type": "markdown",
   "id": "3af1d345",
   "metadata": {},
   "source": [
    "Ant 1 traveled: y + x/2 + (y + x/2) = x + 2y\n",
    "\n",
    "Ant 2 traveled: y + x/2 + (x + 2y - (x + y - x/2)) = y + x/2 + (x/2 + y) = x + 2y\n",
    "\n",
    "Ant 3 traveled: y + y = 2y\n",
    "\n",
    "Each of these distances is less than or equal the length of the stick. Moreover, the biggest distance in between bounces is equal to half the stick length."
   ]
  },
  {
   "cell_type": "markdown",
   "id": "42cef061",
   "metadata": {},
   "source": [
    "<font color='blue'>More or less this was the moment when we ended our call. I was torn apart at this moment if the answer was 100s or 200s (if ants can only travel length of a stick or twice that much).</font>"
   ]
  },
  {
   "cell_type": "markdown",
   "id": "6e74dc5e",
   "metadata": {},
   "source": [
    " "
   ]
  },
  {
   "cell_type": "code",
   "execution_count": null,
   "id": "d3b4437b",
   "metadata": {},
   "outputs": [],
   "source": []
  }
 ],
 "metadata": {
  "kernelspec": {
   "display_name": "Python 3 (ipykernel)",
   "language": "python",
   "name": "python3"
  },
  "language_info": {
   "codemirror_mode": {
    "name": "ipython",
    "version": 3
   },
   "file_extension": ".py",
   "mimetype": "text/x-python",
   "name": "python",
   "nbconvert_exporter": "python",
   "pygments_lexer": "ipython3",
   "version": "3.9.7"
  }
 },
 "nbformat": 4,
 "nbformat_minor": 5
}
