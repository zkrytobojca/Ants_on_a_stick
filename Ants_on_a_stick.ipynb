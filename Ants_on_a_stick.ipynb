{
 "cells": [
  {
   "cell_type": "markdown",
   "id": "ba66749a",
   "metadata": {},
   "source": [
    "# Ants on a stick"
   ]
  },
  {
   "cell_type": "markdown",
   "id": "09219cb8",
   "metadata": {},
   "source": [
    "## Task description"
   ]
  },
  {
   "cell_type": "markdown",
   "id": "3ef2bede",
   "metadata": {},
   "source": [
    "Imagine there is a stick 1 meter long. We drop n ants on this stick in random places (where n is not known beforehand). Ants travel along a stick at a speed of 1 cm/s. When they meet on their path, they will change direction (bounce off each other). Ants can fall from either side of the stick. How much time must elapse till we are sure all the ants will fall off the said stick?"
   ]
  },
  {
   "cell_type": "markdown",
   "id": "1d4b8988",
   "metadata": {},
   "source": [
    "## Line of reasoning"
   ]
  },
  {
   "cell_type": "markdown",
   "id": "323452fc",
   "metadata": {},
   "source": [
    "Single ant placed on one end of the stick facing the other will travel whole length of a stick."
   ]
  },
  {
   "cell_type": "markdown",
   "id": "e4c83bfb",
   "metadata": {},
   "source": [
    "![title](img/1.png)"
   ]
  },
  {
   "cell_type": "markdown",
   "id": "bfb83dd1",
   "metadata": {},
   "source": [
    "Two ants placed on opposite ends of the stick, facing each other, will bounce in the middle. Each of them will therefore travel length of the stick (once again)."
   ]
  },
  {
   "cell_type": "markdown",
   "id": "8bec1cef",
   "metadata": {},
   "source": [
    "![title](img/2.png)"
   ]
  },
  {
   "cell_type": "markdown",
   "id": "5d07bc6e",
   "metadata": {},
   "source": [
    "Question comes to mind: Is it possible for an ant to travel more than half of the stick without bouncing off?"
   ]
  },
  {
   "cell_type": "markdown",
   "id": "9afb2ebb",
   "metadata": {},
   "source": [
    "I believe not. Only way for it to be possible would be for an ant to have no other ants facing them on their path. "
   ]
  },
  {
   "cell_type": "markdown",
   "id": "819ac447",
   "metadata": {},
   "source": [
    "As an example to support this claim, you can imagine following scenario: Two ants are placed on opposite ends of the stick, facing each other. One additional ant is placed in between them. "
   ]
  },
  {
   "cell_type": "markdown",
   "id": "e7de3f55",
   "metadata": {},
   "source": [
    "![title](img/3.png)"
   ]
  },
  {
   "cell_type": "markdown",
   "id": "4311fe43",
   "metadata": {},
   "source": [
    "The length of the stick is x + 2y. When the ant 2 and 3 meet ant 1 and 2 will be still in distance x relative to each other. Ant 3 will bounce off to the right being on the way to falling."
   ]
  },
  {
   "cell_type": "markdown",
   "id": "26c3d771",
   "metadata": {},
   "source": [
    "![title](img/4.png)"
   ]
  },
  {
   "cell_type": "markdown",
   "id": "d2aafa1d",
   "metadata": {},
   "source": [
    "Now ant 1 and 2 will travel distance equal to x/2 each. They will bounce off each other and go on their merry way to certain doom (or at least fall :P )."
   ]
  },
  {
   "cell_type": "markdown",
   "id": "3af1d345",
   "metadata": {},
   "source": [
    "Ant 1 traveled: y + x/2 + (y + x/2) = x + 2y\n",
    "\n",
    "Ant 2 traveled: y + x/2 + (x + 2y - (x + y - x/2)) = y + x/2 + (x/2 + y) = x + 2y\n",
    "\n",
    "Ant 3 traveled: y + y = 2y\n",
    "\n",
    "Each of these distances is less than or equal the length of the stick. Moreover, the biggest distance in between bounces is equal to half the stick length."
   ]
  },
  {
   "cell_type": "markdown",
   "id": "42cef061",
   "metadata": {},
   "source": [
    "<font color='blue'>More or less this was the moment when we ended our call. I was torn apart at this moment if the answer was 100s or 200s (if ants can only travel length of a stick or twice that much).</font>"
   ]
  },
  {
   "cell_type": "markdown",
   "id": "6e74dc5e",
   "metadata": {},
   "source": [
    " "
   ]
  },
  {
   "cell_type": "markdown",
   "id": "64865b77",
   "metadata": {},
   "source": [
    "Additional question: Is it possible for the ants to bounce off each other infinitely? "
   ]
  },
  {
   "cell_type": "markdown",
   "id": "09128cb3",
   "metadata": {},
   "source": [
    "No. They will fall off eventually for sure. "
   ]
  },
  {
   "cell_type": "markdown",
   "id": "d0818089",
   "metadata": {},
   "source": [
    "Ants also cannot catch up with each other because they have the same speed. So we know for sure that ants will bounce off always in mid point between each other."
   ]
  },
  {
   "cell_type": "markdown",
   "id": "f47c505f",
   "metadata": {},
   "source": [
    "When we add more ants, situation looks more complicated... at first."
   ]
  },
  {
   "cell_type": "markdown",
   "id": "754e2177",
   "metadata": {},
   "source": [
    "![title](img/5.png)"
   ]
  },
  {
   "cell_type": "markdown",
   "id": "8268fb05",
   "metadata": {},
   "source": [
    "It is difficult to visualize the path of the ants over time because you would have to check the position of the ants at every single collision. I did my best in image above."
   ]
  },
  {
   "cell_type": "markdown",
   "id": "8878d8d6",
   "metadata": {},
   "source": [
    "As we agreed at the beginning, 2 ants, after bouncing from each other, after some time return to their initial positions with the opposite motion vector."
   ]
  },
  {
   "cell_type": "markdown",
   "id": "90ae5d46",
   "metadata": {},
   "source": [
    "We do not need to track the exact path of a single ant. All we care about is question \"Is there an ant on specific location in the certain moment?\"."
   ]
  },
  {
   "cell_type": "markdown",
   "id": "533f94a2",
   "metadata": {},
   "source": [
    "Having that in mind, we can abandon keeping track of specific ants. Instead we check only if there is an ant walking selected path during specific time. Now our visualization would look like this:"
   ]
  },
  {
   "cell_type": "markdown",
   "id": "23e80d9e",
   "metadata": {},
   "source": [
    "![title](img/6.png)"
   ]
  },
  {
   "cell_type": "markdown",
   "id": "21343013",
   "metadata": {},
   "source": [
    "As we can clearly see, longest path the (any) ant would travel (with swapping) would be the length of the stick. "
   ]
  },
  {
   "cell_type": "markdown",
   "id": "0bb34a04",
   "metadata": {},
   "source": [
    "Out initial observations make it happen (ants returning to their orginal positions over time and maximum possible travel distance without bouncing off is half the stick)."
   ]
  },
  {
   "cell_type": "markdown",
   "id": "ed2385bf",
   "metadata": {},
   "source": [
    "Therefore, the minimum time that must elapse before we can be sure all the ants will fall off the said stick is: \n",
    "\n",
    "$$\n",
    "  \\frac{L}{a} = \\frac{100cm}{1 \\frac{cm}{s}} = 100s\n",
    "$$\n",
    "\n",
    "where 'L' is stick length and 'a' is ant speed"
   ]
  },
  {
   "cell_type": "markdown",
   "id": "713b2e72",
   "metadata": {},
   "source": [
    "Is it an acceptable answer? I hope so, because it would be pretty hard to describe mathematically. <font color='blue'>(as promised I didn't check it on the web)</font>"
   ]
  },
  {
   "cell_type": "markdown",
   "id": "82185ec4",
   "metadata": {},
   "source": [
    "We can also try to estimate the time using heuristic approach. We can place ants in random spots and simulate ants with their collisions. It wouldn't give us definitive answer, but will guide us toward the right answer."
   ]
  },
  {
   "cell_type": "markdown",
   "id": "0a157431",
   "metadata": {},
   "source": [
    "Following code tries to do just that:"
   ]
  },
  {
   "cell_type": "code",
   "execution_count": 1,
   "id": "d068aaaf",
   "metadata": {},
   "outputs": [],
   "source": [
    "# importing necessary libraries\n",
    "import pandas as pd\n",
    "import numpy as np\n",
    "import matplotlib.pyplot as plt"
   ]
  },
  {
   "cell_type": "code",
   "execution_count": 2,
   "id": "4e3b1b68",
   "metadata": {},
   "outputs": [],
   "source": [
    "# function for generating dataframe with random ants\n",
    "def Generate_Random_Ants(number, stick_length):\n",
    "    df = pd.DataFrame() \n",
    "    df['position'] = np.random.uniform(0, stick_length, number)\n",
    "    df = df.sort_values(by=['position'])\n",
    "    df['facing_right'] = np.random.choice([False, True], number)\n",
    "    df.insert(0, \"ant_id\", range(0, number), True)\n",
    "    \n",
    "    return df"
   ]
  },
  {
   "cell_type": "code",
   "execution_count": 3,
   "id": "23ee0c50",
   "metadata": {},
   "outputs": [],
   "source": [
    "# function that runs simulation for ant movement and collisions\n",
    "def Perform_Simulation(number_of_ants, stick_length):\n",
    "    # our generated dataframe with ants\n",
    "    df = Generate_Random_Ants(number_of_ants, stick_length)\n",
    "    \n",
    "    # necessary variables\n",
    "    continue_simulation = True\n",
    "    total_distance = 0.0\n",
    "\n",
    "    while continue_simulation:\n",
    "        # calculating distance to nearest impact\n",
    "        df['nearest_impact'] = np.where((df['facing_right'] == True) & (df['facing_right'].shift(-1) == False), \n",
    "                                          (df['position'].shift(-1) - df['position']) / 2, \n",
    "                                          np.nan)\n",
    "\n",
    "        # calculating minimal distance to nearest impact\n",
    "        min_nearest_impact = df['nearest_impact'].min()\n",
    "\n",
    "\n",
    "        # bouncing off the ants\n",
    "        if np.isnan(min_nearest_impact):\n",
    "            continue_simulation = False\n",
    "        else:\n",
    "            # adding minimal distance to nearest impact to total distance\n",
    "            total_distance += min_nearest_impact\n",
    "\n",
    "            # updating ants' positions\n",
    "            df['position'] = np.where(df['facing_right'] == True, \n",
    "                                            np.clip(df['position'] + min_nearest_impact, 0, stick_length), \n",
    "                                            np.clip(df['position'] - min_nearest_impact, 0, stick_length))\n",
    "            # updating ants' vector direction\n",
    "            df['facing_right'] = np.where(df['nearest_impact'] == min_nearest_impact, \n",
    "                                            ~df['facing_right'], \n",
    "                                            df['facing_right'])\n",
    "            df['facing_right'] = np.where(df['nearest_impact'].shift(1) == min_nearest_impact, \n",
    "                                            ~df['facing_right'], \n",
    "                                            df['facing_right'])\n",
    "\n",
    "    # calculating distance to fall for each ant\n",
    "    df['dist_to_fall'] = np.where(df['facing_right'] == True, \n",
    "                                            stick_length - df['position'], \n",
    "                                            df['position'])\n",
    "    # adding longest distance to fall to total distance\n",
    "    total_distance  += df['dist_to_fall'].max()\n",
    "    \n",
    "    return total_distance"
   ]
  },
  {
   "cell_type": "code",
   "execution_count": 4,
   "id": "d6230c88",
   "metadata": {},
   "outputs": [
    {
     "data": {
      "text/plain": [
       "99.59109893872782"
      ]
     },
     "execution_count": 4,
     "metadata": {},
     "output_type": "execute_result"
    }
   ],
   "source": [
    "# getting longest distance travelled by ant\n",
    "longest_ant_path = Perform_Simulation(100, 100)\n",
    "longest_ant_path"
   ]
  },
  {
   "cell_type": "code",
   "execution_count": 5,
   "id": "47c32181",
   "metadata": {},
   "outputs": [],
   "source": [
    "# setting ant speed\n",
    "ant_speed = 1"
   ]
  },
  {
   "cell_type": "code",
   "execution_count": 6,
   "id": "1e677bb7",
   "metadata": {},
   "outputs": [
    {
     "data": {
      "text/plain": [
       "99.59109893872782"
      ]
     },
     "execution_count": 6,
     "metadata": {},
     "output_type": "execute_result"
    }
   ],
   "source": [
    "# calculating total time \n",
    "total_time = longest_ant_path / ant_speed\n",
    "total_time"
   ]
  },
  {
   "cell_type": "code",
   "execution_count": null,
   "id": "07b9be25",
   "metadata": {},
   "outputs": [],
   "source": []
  }
 ],
 "metadata": {
  "kernelspec": {
   "display_name": "Python 3 (ipykernel)",
   "language": "python",
   "name": "python3"
  },
  "language_info": {
   "codemirror_mode": {
    "name": "ipython",
    "version": 3
   },
   "file_extension": ".py",
   "mimetype": "text/x-python",
   "name": "python",
   "nbconvert_exporter": "python",
   "pygments_lexer": "ipython3",
   "version": "3.9.7"
  }
 },
 "nbformat": 4,
 "nbformat_minor": 5
}
